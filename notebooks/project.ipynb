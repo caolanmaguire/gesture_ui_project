{
 "cells": [
  {
   "cell_type": "markdown",
   "id": "c55543a6",
   "metadata": {},
   "source": [
    "### Libraries"
   ]
  },
  {
   "cell_type": "code",
   "execution_count": 1,
   "id": "f85cce4d",
   "metadata": {},
   "outputs": [],
   "source": [
    "import numpy as np\n",
    "import pandas as pd\n",
    "import matplotlib.pyplot as plt\n",
    "import seaborn as sns\n",
    "import os\n",
    "from PIL import Image\n",
    "from tqdm import tqdm\n",
    "from sklearn.model_selection import train_test_split, cross_val_score\n",
    "from sklearn.preprocessing import StandardScaler, MinMaxScaler, FunctionTransformer\n",
    "from sklearn.svm import SVC\n",
    "from sklearn.linear_model import LogisticRegression\n",
    "from sklearn.ensemble import RandomForestClassifier\n",
    "from sklearn.neighbors import KNeighborsClassifier\n",
    "from sklearn.metrics import classification_report, confusion_matrix, accuracy_score, mean_squared_error, r2_score"
   ]
  },
  {
   "cell_type": "markdown",
   "id": "0e2ac5c9",
   "metadata": {},
   "source": [
    "### Seed Configuration"
   ]
  },
  {
   "cell_type": "code",
   "execution_count": 2,
   "id": "7a6a9a4b",
   "metadata": {},
   "outputs": [],
   "source": [
    "# for loading bars on notebook\n",
    "from tqdm import tqdm\n",
    "\n",
    "# Set random seed\n",
    "SEED = 385433  # my G number\n",
    "np.random.seed(SEED)\n"
   ]
  },
  {
   "cell_type": "markdown",
   "id": "05b8e13d",
   "metadata": {},
   "source": [
    "### Read in Dataset"
   ]
  },
  {
   "cell_type": "code",
   "execution_count": 3,
   "id": "4a03c3a9",
   "metadata": {},
   "outputs": [
    {
     "name": "stderr",
     "output_type": "stream",
     "text": [
      "Loading ankleboot: 100%|█████████████████████████████████████████████████████████| 7000/7000 [00:01<00:00, 4708.65it/s]\n",
      "Loading bag: 100%|███████████████████████████████████████████████████████████████| 7000/7000 [00:01<00:00, 4394.36it/s]\n",
      "Loading coat: 100%|██████████████████████████████████████████████████████████████| 7000/7000 [00:01<00:00, 3842.03it/s]\n",
      "Loading dress: 100%|█████████████████████████████████████████████████████████████| 7000/7000 [00:01<00:00, 3881.49it/s]\n",
      "Loading pullover: 100%|██████████████████████████████████████████████████████████| 7000/7000 [00:01<00:00, 3992.99it/s]"
     ]
    },
    {
     "name": "stdout",
     "output_type": "stream",
     "text": [
      "Read in dataset\n"
     ]
    },
    {
     "name": "stderr",
     "output_type": "stream",
     "text": [
      "\n"
     ]
    }
   ],
   "source": [
    "\n",
    "# Define dataset path\n",
    "DATASET_PATH = \"fashion\"\n",
    "# CATEGORIES = ['ankleboot', 'bag']\n",
    "CATEGORIES = ['ankleboot', 'bag', 'coat', 'dress', 'pullover']#, 'sandal', 'shirt', 'sneaker', 'trouser', 'tshirt-top']\n",
    "\n",
    "# Load images and labels with progress bar\n",
    "X, y = [], []\n",
    "for label, category in enumerate(CATEGORIES):\n",
    "    folder_path = os.path.join(DATASET_PATH, category)\n",
    "    files = os.listdir(folder_path)\n",
    "    for file in tqdm(files, desc=f\"Loading {category}\"):\n",
    "        img_path = os.path.join(folder_path, file)\n",
    "        img = Image.open(img_path).convert('L')  # Convert to grayscale\n",
    "        img_resized = img.resize((28, 28))  # Resize to 28x28\n",
    "        X.append(np.array(img_resized).flatten())  # Flatten images\n",
    "        y.append(label)\n",
    "\n",
    "X = np.array(X)\n",
    "y = np.array(y)\n",
    "\n",
    "print('Read in dataset')"
   ]
  },
  {
   "cell_type": "markdown",
   "id": "694e8649",
   "metadata": {},
   "source": [
    "### Split Dataset into Train, Validation, and Test Sets"
   ]
  },
  {
   "cell_type": "code",
   "execution_count": 4,
   "id": "404735dd",
   "metadata": {},
   "outputs": [
    {
     "name": "stdout",
     "output_type": "stream",
     "text": [
      "Splitting dataset...\n"
     ]
    },
    {
     "name": "stderr",
     "output_type": "stream",
     "text": [
      "Splitting Data: 100%|████████████████████████████████████████████████████████████████████| 2/2 [00:00<00:00, 44.52it/s]"
     ]
    },
    {
     "name": "stdout",
     "output_type": "stream",
     "text": [
      "Training Set Shape: (22400, 784) (22400,)\n",
      "Validation Set Shape: (5600, 784) (5600,)\n",
      "Test Set Shape: (7000, 784) (7000,)\n",
      "Class Distribution in Training Set:\n",
      "0    0.2\n",
      "2    0.2\n",
      "1    0.2\n",
      "3    0.2\n",
      "4    0.2\n",
      "Name: proportion, dtype: float64\n"
     ]
    },
    {
     "name": "stderr",
     "output_type": "stream",
     "text": [
      "\n"
     ]
    }
   ],
   "source": [
    "# Split into training, validation, and test sets with progress bar\n",
    "print(\"Splitting dataset...\")\n",
    "with tqdm(total=2, desc=\"Splitting Data\") as pbar:\n",
    "    X_train, X_test, y_train, y_test = train_test_split(X, y, test_size=0.2, random_state=SEED, shuffle=True, stratify=y)\n",
    "    pbar.update(1)\n",
    "    X_train, X_val, y_train, y_val = train_test_split(X_train, y_train, test_size=0.2, random_state=SEED, shuffle=True, stratify=y_train)\n",
    "    pbar.update(1)\n",
    "\n",
    "# Check dataset distribution\n",
    "print(\"Training Set Shape:\", X_train.shape, y_train.shape)\n",
    "print(\"Validation Set Shape:\", X_val.shape, y_val.shape)\n",
    "print(\"Test Set Shape:\", X_test.shape, y_test.shape)\n",
    "print(\"Class Distribution in Training Set:\")\n",
    "print(pd.Series(y_train).value_counts(normalize=True))\n"
   ]
  },
  {
   "cell_type": "markdown",
   "id": "faa7f504",
   "metadata": {},
   "source": [
    "### Define Models to Train"
   ]
  },
  {
   "cell_type": "code",
   "execution_count": 5,
   "id": "e3a12dd5",
   "metadata": {},
   "outputs": [],
   "source": [
    "# Define models to train\n",
    "models = {\n",
    "    \"SVM\": SVC(kernel='rbf', random_state=SEED),\n",
    "    \"Logistic Regression\": LogisticRegression(max_iter=1000, random_state=SEED),\n",
    "    \"kNN\": KNeighborsClassifier(n_neighbors=5)#,\n",
    "#     \"Random Forest\": RandomForestClassifier(n_estimators=100, random_state=SEED)\n",
    "}"
   ]
  },
  {
   "cell_type": "markdown",
   "id": "1f3203dd",
   "metadata": {},
   "source": [
    "# Train Models and Evaluate Performance"
   ]
  },
  {
   "cell_type": "code",
   "execution_count": 6,
   "id": "9ff79775",
   "metadata": {},
   "outputs": [
    {
     "data": {
      "text/plain": [
       "dict_items([('SVM', SVC(random_state=385433)), ('Logistic Regression', LogisticRegression(max_iter=1000, random_state=385433)), ('kNN', KNeighborsClassifier()), ('Random Forest', RandomForestClassifier(random_state=385433))])"
      ]
     },
     "execution_count": 6,
     "metadata": {},
     "output_type": "execute_result"
    }
   ],
   "source": [
    "models.items()"
   ]
  },
  {
   "cell_type": "code",
   "execution_count": 7,
   "id": "8182311d",
   "metadata": {
    "scrolled": false
   },
   "outputs": [
    {
     "name": "stdout",
     "output_type": "stream",
     "text": [
      "2025-03-21 16:20:50\n",
      "Checking model training times...\n",
      "SVM took 0.04 seconds on a small subset.\n",
      "Logistic Regression took 0.72 seconds on a small subset.\n",
      "kNN took 0.00 seconds on a small subset.\n",
      "Random Forest took 0.84 seconds on a small subset.\n",
      "Training Models...\n"
     ]
    },
    {
     "name": "stderr",
     "output_type": "stream",
     "text": [
      "\r",
      "Training Progress:   0%|                                                                         | 0/4 [00:00<?, ?it/s]"
     ]
    },
    {
     "name": "stdout",
     "output_type": "stream",
     "text": [
      "\n",
      "Training SVM...\n"
     ]
    },
    {
     "name": "stderr",
     "output_type": "stream",
     "text": [
      "\n",
      "Fitting SVM:   0%|                                                                               | 0/1 [00:00<?, ?it/s]\u001b[A\n",
      "Fitting SVM: 100%|███████████████████████████████████████████████████████████████████████| 1/1 [00:42<00:00, 42.32s/it]\u001b[A\n",
      "                                                                                                                       \u001b[A"
     ]
    },
    {
     "name": "stdout",
     "output_type": "stream",
     "text": [
      "SVM training took 42.33 seconds.\n"
     ]
    },
    {
     "name": "stderr",
     "output_type": "stream",
     "text": [
      "\n",
      "Cross-validation SVM:   0%|                                                                      | 0/3 [00:00<?, ?it/s]\u001b[A\n",
      "Training Progress:  25%|████████████████                                                | 1/4 [02:56<08:49, 176.38s/it]\u001b[A"
     ]
    },
    {
     "name": "stdout",
     "output_type": "stream",
     "text": [
      "0.9267443417704567\n",
      "0.934645774742199\n",
      "0.9324939726761318\n",
      "SVM Classification Report:\n",
      "               precision    recall  f1-score   support\n",
      "\n",
      "           0       1.00      1.00      1.00      1120\n",
      "           1       0.98      0.98      0.98      1120\n",
      "           2       0.86      0.88      0.87      1120\n",
      "           3       0.93      0.94      0.94      1120\n",
      "           4       0.89      0.87      0.88      1120\n",
      "\n",
      "    accuracy                           0.93      5600\n",
      "   macro avg       0.93      0.93      0.93      5600\n",
      "weighted avg       0.93      0.93      0.93      5600\n",
      "\n",
      "\n",
      "Training Logistic Regression...\n"
     ]
    },
    {
     "name": "stderr",
     "output_type": "stream",
     "text": [
      "\n",
      "Fitting Logistic Regression:   0%|                                                               | 0/1 [00:00<?, ?it/s]\u001b[AC:\\Users\\caola\\anaconda3\\Lib\\site-packages\\sklearn\\linear_model\\_logistic.py:460: ConvergenceWarning: lbfgs failed to converge (status=1):\n",
      "STOP: TOTAL NO. of ITERATIONS REACHED LIMIT.\n",
      "\n",
      "Increase the number of iterations (max_iter) or scale the data as shown in:\n",
      "    https://scikit-learn.org/stable/modules/preprocessing.html\n",
      "Please also refer to the documentation for alternative solver options:\n",
      "    https://scikit-learn.org/stable/modules/linear_model.html#logistic-regression\n",
      "  n_iter_i = _check_optimize_result(\n",
      "\n",
      "Fitting Logistic Regression: 100%|███████████████████████████████████████████████████████| 1/1 [00:36<00:00, 36.66s/it]\u001b[A\n",
      "                                                                                                                       \u001b[A"
     ]
    },
    {
     "name": "stdout",
     "output_type": "stream",
     "text": [
      "Logistic Regression training took 36.67 seconds.\n"
     ]
    },
    {
     "name": "stderr",
     "output_type": "stream",
     "text": [
      "C:\\Users\\caola\\anaconda3\\Lib\\site-packages\\sklearn\\linear_model\\_logistic.py:460: ConvergenceWarning: lbfgs failed to converge (status=1):\n",
      "STOP: TOTAL NO. of ITERATIONS REACHED LIMIT.\n",
      "\n",
      "Increase the number of iterations (max_iter) or scale the data as shown in:\n",
      "    https://scikit-learn.org/stable/modules/preprocessing.html\n",
      "Please also refer to the documentation for alternative solver options:\n",
      "    https://scikit-learn.org/stable/modules/linear_model.html#logistic-regression\n",
      "  n_iter_i = _check_optimize_result(\n",
      "C:\\Users\\caola\\anaconda3\\Lib\\site-packages\\sklearn\\linear_model\\_logistic.py:460: ConvergenceWarning: lbfgs failed to converge (status=1):\n",
      "STOP: TOTAL NO. of ITERATIONS REACHED LIMIT.\n",
      "\n",
      "Increase the number of iterations (max_iter) or scale the data as shown in:\n",
      "    https://scikit-learn.org/stable/modules/preprocessing.html\n",
      "Please also refer to the documentation for alternative solver options:\n",
      "    https://scikit-learn.org/stable/modules/linear_model.html#logistic-regression\n",
      "  n_iter_i = _check_optimize_result(\n",
      "C:\\Users\\caola\\anaconda3\\Lib\\site-packages\\sklearn\\linear_model\\_logistic.py:460: ConvergenceWarning: lbfgs failed to converge (status=1):\n",
      "STOP: TOTAL NO. of ITERATIONS REACHED LIMIT.\n",
      "\n",
      "Increase the number of iterations (max_iter) or scale the data as shown in:\n",
      "    https://scikit-learn.org/stable/modules/preprocessing.html\n",
      "Please also refer to the documentation for alternative solver options:\n",
      "    https://scikit-learn.org/stable/modules/linear_model.html#logistic-regression\n",
      "  n_iter_i = _check_optimize_result(\n",
      "\n",
      "Cross-validation Logistic Regression:   0%|                                                      | 0/3 [00:00<?, ?it/s]\u001b[A\n",
      "Training Progress:  50%|████████████████████████████████                                | 2/4 [04:48<04:37, 138.64s/it]\u001b[A"
     ]
    },
    {
     "name": "stdout",
     "output_type": "stream",
     "text": [
      "0.8895138609883487\n",
      "0.8913887772867283\n",
      "0.8960621484061077\n",
      "Logistic Regression Classification Report:\n",
      "               precision    recall  f1-score   support\n",
      "\n",
      "           0       1.00      1.00      1.00      1120\n",
      "           1       0.95      0.96      0.96      1120\n",
      "           2       0.80      0.82      0.81      1120\n",
      "           3       0.92      0.91      0.91      1120\n",
      "           4       0.83      0.81      0.82      1120\n",
      "\n",
      "    accuracy                           0.90      5600\n",
      "   macro avg       0.90      0.90      0.90      5600\n",
      "weighted avg       0.90      0.90      0.90      5600\n",
      "\n",
      "\n",
      "Training kNN...\n"
     ]
    },
    {
     "name": "stderr",
     "output_type": "stream",
     "text": [
      "\n",
      "Fitting kNN:   0%|                                                                               | 0/1 [00:00<?, ?it/s]\u001b[A\n",
      "                                                                                                                       \u001b[A"
     ]
    },
    {
     "name": "stdout",
     "output_type": "stream",
     "text": [
      "kNN training took 0.01 seconds.\n"
     ]
    },
    {
     "name": "stderr",
     "output_type": "stream",
     "text": [
      "\n",
      "Cross-validation kNN:   0%|                                                                      | 0/3 [00:00<?, ?it/s]\u001b[A\n",
      "Training Progress:  75%|████████████████████████████████████████████████▊                | 3/4 [05:03<01:21, 81.97s/it]\u001b[A"
     ]
    },
    {
     "name": "stdout",
     "output_type": "stream",
     "text": [
      "0.9086647917503683\n",
      "0.912950314718093\n",
      "0.9111974283418163\n",
      "kNN Classification Report:\n",
      "               precision    recall  f1-score   support\n",
      "\n",
      "           0       1.00      1.00      1.00      1120\n",
      "           1       0.99      0.97      0.98      1120\n",
      "           2       0.83      0.84      0.83      1120\n",
      "           3       0.94      0.92      0.93      1120\n",
      "           4       0.85      0.87      0.86      1120\n",
      "\n",
      "    accuracy                           0.92      5600\n",
      "   macro avg       0.92      0.92      0.92      5600\n",
      "weighted avg       0.92      0.92      0.92      5600\n",
      "\n",
      "\n",
      "Training Random Forest...\n"
     ]
    },
    {
     "name": "stderr",
     "output_type": "stream",
     "text": [
      "\n",
      "Fitting Random Forest:   0%|                                                                     | 0/1 [00:00<?, ?it/s]\u001b[A\n",
      "Fitting Random Forest: 100%|█████████████████████████████████████████████████████████████| 1/1 [00:41<00:00, 41.21s/it]\u001b[A\n",
      "                                                                                                                       \u001b[A"
     ]
    },
    {
     "name": "stdout",
     "output_type": "stream",
     "text": [
      "Random Forest training took 41.22 seconds.\n"
     ]
    },
    {
     "name": "stderr",
     "output_type": "stream",
     "text": [
      "\n",
      "Cross-validation Random Forest:   0%|                                                            | 0/3 [00:00<?, ?it/s]\u001b[A\n",
      "Training Progress: 100%|████████████████████████████████████████████████████████████████| 4/4 [07:06<00:00, 106.53s/it]\u001b[A"
     ]
    },
    {
     "name": "stdout",
     "output_type": "stream",
     "text": [
      "0.9224588188027321\n",
      "0.9279496451051292\n",
      "0.9306188052504688\n",
      "Random Forest Classification Report:\n",
      "               precision    recall  f1-score   support\n",
      "\n",
      "           0       1.00      1.00      1.00      1120\n",
      "           1       0.98      0.98      0.98      1120\n",
      "           2       0.84      0.88      0.86      1120\n",
      "           3       0.93      0.94      0.94      1120\n",
      "           4       0.90      0.85      0.88      1120\n",
      "\n",
      "    accuracy                           0.93      5600\n",
      "   macro avg       0.93      0.93      0.93      5600\n",
      "weighted avg       0.93      0.93      0.93      5600\n",
      "\n",
      "\n",
      "Model training complete!\n"
     ]
    },
    {
     "name": "stderr",
     "output_type": "stream",
     "text": [
      "\n"
     ]
    }
   ],
   "source": [
    "import datetime, time\n",
    "print(datetime.datetime.fromtimestamp(time.time()).strftime('%Y-%m-%d %H:%M:%S'))\n",
    "\n",
    "print(\"Checking model training times...\")\n",
    "for name, model in models.items():\n",
    "    start_time = time.time()\n",
    "    model.fit(X_train[:500], y_train[:500])  # Train on small subset\n",
    "    end_time = time.time()\n",
    "    print(f\"{name} took {end_time - start_time:.2f} seconds on a small subset.\")\n",
    "# Train models and evaluate performance\n",
    "results = {}\n",
    "cross_val_results = {}\n",
    "\n",
    "print(\"Training Models...\")\n",
    "\n",
    "with tqdm(total=len(models), desc=\"Training Progress\", leave=True) as pbar:\n",
    "    for name, model in models.items():\n",
    "        print(f\"\\nTraining {name}...\")\n",
    "\n",
    "        start_time = time.time()  # Track time\n",
    "\n",
    "        # Train the model with a progress indicator\n",
    "        for i in tqdm(range(1), desc=f\"Fitting {name}\", leave=False):\n",
    "            model.fit(X_train, y_train)\n",
    "\n",
    "        end_time = time.time()\n",
    "        print(f\"{name} training took {end_time - start_time:.2f} seconds.\")\n",
    "\n",
    "        # Make predictions\n",
    "        y_pred = model.predict(X_val)\n",
    "\n",
    "        # Cross-validation with progress bar\n",
    "        cross_val_scores = []\n",
    "        for score in tqdm(cross_val_score(model, X_train, y_train, cv=3), desc=f\"Cross-validation {name}\", leave=False):\n",
    "            print(score)\n",
    "            cross_val_scores.append(score)\n",
    "\n",
    "        cross_val_score_avg = np.mean(cross_val_scores)\n",
    "\n",
    "        results[name] = accuracy_score(y_val, y_pred)\n",
    "        cross_val_results[name] = cross_val_score_avg\n",
    "\n",
    "        print(f\"{name} Classification Report:\\n\", classification_report(y_val, y_pred))\n",
    "        pbar.update(1)  # Update the outer progress bar\n",
    "\n",
    "print(\"\\nModel training complete!\")\n"
   ]
  },
  {
   "cell_type": "markdown",
   "id": "0e696b58",
   "metadata": {},
   "source": [
    "### Compare Model Performance (Accuracy and Cross-Validation)"
   ]
  },
  {
   "cell_type": "code",
   "execution_count": 8,
   "id": "9b0e0013",
   "metadata": {},
   "outputs": [
    {
     "name": "stdout",
     "output_type": "stream",
     "text": [
      "\n",
      "Model Performance:\n",
      "                     Accuracy\n",
      "SVM                  0.934821\n",
      "Logistic Regression  0.899643\n",
      "kNN                  0.919821\n",
      "Random Forest        0.930179\n",
      "\n",
      "Cross-Validation Performance:\n",
      "                     Cross-Val Accuracy\n",
      "SVM                            0.931295\n",
      "Logistic Regression            0.892322\n",
      "kNN                            0.910938\n",
      "Random Forest                  0.927009\n"
     ]
    },
    {
     "data": {
      "image/png": "[encoded data removed]",
      "text/plain": [
       "<Figure size 800x500 with 1 Axes>"
      ]
     },
     "metadata": {},
     "output_type": "display_data"
    },
    {
     "data": {
      "image/png": "[encoded data removed]",
      "text/plain": [
       "<Figure size 800x500 with 1 Axes>"
      ]
     },
     "metadata": {},
     "output_type": "display_data"
    }
   ],
   "source": [
    "# Compare Results\n",
    "results_df = pd.DataFrame.from_dict(results, orient='index', columns=['Accuracy'])\n",
    "cross_val_df = pd.DataFrame.from_dict(cross_val_results, orient='index', columns=['Cross-Val Accuracy'])\n",
    "print(\"\\nModel Performance:\")\n",
    "print(results_df)\n",
    "print(\"\\nCross-Validation Performance:\")\n",
    "print(cross_val_df)\n",
    "\n",
    "# Plot model accuracy comparison\n",
    "plt.figure(figsize=(8, 5))\n",
    "sns.barplot(x=results_df.index, y=results_df[\"Accuracy\"], palette=\"viridis\")\n",
    "plt.title(\"Model Accuracy Comparison\")\n",
    "plt.ylabel(\"Accuracy\")\n",
    "plt.show()\n",
    "\n",
    "# Plot cross-validation accuracy comparison\n",
    "plt.figure(figsize=(8, 5))\n",
    "sns.barplot(x=cross_val_df.index, y=cross_val_df[\"Cross-Val Accuracy\"], palette=\"coolwarm\")\n",
    "plt.title(\"Cross-Validation Accuracy Comparison\")\n",
    "plt.ylabel(\"Cross-Val Accuracy\")\n",
    "plt.show()\n"
   ]
  },
  {
   "cell_type": "markdown",
   "id": "6d68c65e",
   "metadata": {},
   "source": [
    "# Evaluate the Best Model on Test Set"
   ]
  },
  {
   "cell_type": "code",
   "execution_count": 9,
   "id": "bc4328ea",
   "metadata": {},
   "outputs": [
    {
     "name": "stdout",
     "output_type": "stream",
     "text": [
      "\n",
      "Best Model: SVM\n",
      "Test Set Classification Report:\n",
      "              precision    recall  f1-score   support\n",
      "\n",
      "           0       1.00      1.00      1.00      1400\n",
      "           1       0.98      0.98      0.98      1400\n",
      "           2       0.85      0.88      0.86      1400\n",
      "           3       0.93      0.95      0.94      1400\n",
      "           4       0.90      0.85      0.88      1400\n",
      "\n",
      "    accuracy                           0.93      7000\n",
      "   macro avg       0.93      0.93      0.93      7000\n",
      "weighted avg       0.93      0.93      0.93      7000\n",
      "\n"
     ]
    }
   ],
   "source": [
    "# Evaluate Best Model on Test Set\n",
    "best_model_name = results_df[\"Accuracy\"].idxmax()\n",
    "best_model = models[best_model_name]\n",
    "y_test_pred = best_model.predict(X_test)\n",
    "\n",
    "print(f\"\\nBest Model: {best_model_name}\")\n",
    "print(\"Test Set Classification Report:\")\n",
    "print(classification_report(y_test, y_test_pred))\n"
   ]
  }
 ],
 "metadata": {
  "kernelspec": {
   "display_name": "Python 3 (ipykernel)",
   "language": "python",
   "name": "python3"
  },
  "language_info": {
   "codemirror_mode": {
    "name": "ipython",
    "version": 3
   },
   "file_extension": ".py",
   "mimetype": "text/x-python",
   "name": "python",
   "nbconvert_exporter": "python",
   "pygments_lexer": "ipython3",
   "version": "3.11.5"
  }
 },
 "nbformat": 4,
 "nbformat_minor": 5
}
