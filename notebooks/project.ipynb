{
 "cells": [
  {
   "cell_type": "markdown",
   "id": "97e45037",
   "metadata": {},
   "source": [
    "### Libraries"
   ]
  },
  {
   "cell_type": "code",
   "execution_count": 1,
   "id": "f85cce4d",
   "metadata": {},
   "outputs": [],
   "source": [
    "import numpy as np\n",
    "import pandas as pd\n",
    "import matplotlib.pyplot as plt\n",
    "import seaborn as sns\n",
    "import os\n",
    "from PIL import Image\n",
    "from tqdm import tqdm\n",
    "from sklearn.model_selection import train_test_split, cross_val_score\n",
    "from sklearn.preprocessing import StandardScaler, MinMaxScaler, FunctionTransformer\n",
    "from sklearn.svm import SVC\n",
    "from sklearn.linear_model import LogisticRegression\n",
    "from sklearn.ensemble import RandomForestClassifier\n",
    "from sklearn.neighbors import KNeighborsClassifier\n",
    "from sklearn.metrics import classification_report, confusion_matrix, accuracy_score, mean_squared_error, r2_score"
   ]
  },
  {
   "cell_type": "markdown",
   "id": "9d87f8fa",
   "metadata": {},
   "source": [
    "### Seed Configuration"
   ]
  },
  {
   "cell_type": "code",
   "execution_count": 2,
   "id": "2e27380a",
   "metadata": {},
   "outputs": [],
   "source": [
    "# for loading bars on notebook\n",
    "from tqdm import tqdm\n",
    "\n",
    "# Set random seed\n",
    "SEED = 385433  # my G number\n",
    "np.random.seed(SEED)\n"
   ]
  },
  {
   "cell_type": "markdown",
   "id": "08fa7068",
   "metadata": {},
   "source": [
    "### Read in Dataset"
   ]
  },
  {
   "cell_type": "code",
   "execution_count": 3,
   "id": "4a03c3a9",
   "metadata": {},
   "outputs": [
    {
     "name": "stderr",
     "output_type": "stream",
     "text": [
      "Loading ankleboot: 100%|█████████████████████████████████████████████████████████| 7000/7000 [00:02<00:00, 3083.47it/s]\n",
      "Loading bag: 100%|███████████████████████████████████████████████████████████████| 7000/7000 [00:02<00:00, 3034.96it/s]\n",
      "Loading coat: 100%|██████████████████████████████████████████████████████████████| 7000/7000 [00:02<00:00, 3130.57it/s]\n",
      "Loading dress: 100%|█████████████████████████████████████████████████████████████| 7000/7000 [00:02<00:00, 3078.22it/s]\n",
      "Loading pullover: 100%|██████████████████████████████████████████████████████████| 7000/7000 [00:01<00:00, 3602.96it/s]\n",
      "Loading sandal: 100%|████████████████████████████████████████████████████████████| 7000/7000 [00:01<00:00, 3632.43it/s]\n",
      "Loading shirt: 100%|█████████████████████████████████████████████████████████████| 7000/7000 [00:02<00:00, 2779.76it/s]\n",
      "Loading sneaker: 100%|███████████████████████████████████████████████████████████| 7000/7000 [00:02<00:00, 2992.93it/s]\n",
      "Loading trouser: 100%|███████████████████████████████████████████████████████████| 7000/7000 [00:02<00:00, 2768.69it/s]\n",
      "Loading tshirt-top: 100%|████████████████████████████████████████████████████████| 7000/7000 [00:02<00:00, 3334.04it/s]"
     ]
    },
    {
     "name": "stdout",
     "output_type": "stream",
     "text": [
      "Read in dataset\n"
     ]
    },
    {
     "name": "stderr",
     "output_type": "stream",
     "text": [
      "\n"
     ]
    }
   ],
   "source": [
    "\n",
    "# Define dataset path\n",
    "DATASET_PATH = \"fashion\"\n",
    "# CATEGORIES = ['ankleboot', 'bag']\n",
    "CATEGORIES = ['ankleboot', 'bag', 'coat', 'dress', 'pullover', 'sandal', 'shirt', 'sneaker', 'trouser', 'tshirt-top']\n",
    "\n",
    "# Load images and labels with progress bar\n",
    "X, y = [], []\n",
    "for label, category in enumerate(CATEGORIES):\n",
    "    folder_path = os.path.join(DATASET_PATH, category)\n",
    "    files = os.listdir(folder_path)\n",
    "    for file in tqdm(files, desc=f\"Loading {category}\"):\n",
    "        img_path = os.path.join(folder_path, file)\n",
    "        img = Image.open(img_path).convert('L')  # Convert to grayscale\n",
    "        img_resized = img.resize((28, 28))  # Resize to 28x28\n",
    "        X.append(np.array(img_resized).flatten())  # Flatten images\n",
    "        y.append(label)\n",
    "\n",
    "X = np.array(X)\n",
    "y = np.array(y)\n",
    "\n",
    "print('Read in dataset')"
   ]
  },
  {
   "cell_type": "markdown",
   "id": "b00efb59",
   "metadata": {},
   "source": [
    "### Split Dataset into Train, Validation, and Test Sets"
   ]
  },
  {
   "cell_type": "code",
   "execution_count": 4,
   "id": "0cde8761",
   "metadata": {},
   "outputs": [
    {
     "name": "stdout",
     "output_type": "stream",
     "text": [
      "Splitting dataset...\n"
     ]
    },
    {
     "name": "stderr",
     "output_type": "stream",
     "text": [
      "Splitting Data: 100%|████████████████████████████████████████████████████████████████████| 2/2 [00:00<00:00, 24.27it/s]"
     ]
    },
    {
     "name": "stdout",
     "output_type": "stream",
     "text": [
      "Training Set Shape: (44800, 784) (44800,)\n",
      "Validation Set Shape: (11200, 784) (11200,)\n",
      "Test Set Shape: (14000, 784) (14000,)\n",
      "Class Distribution in Training Set:\n",
      "9    0.1\n",
      "6    0.1\n",
      "8    0.1\n",
      "2    0.1\n",
      "1    0.1\n",
      "7    0.1\n",
      "3    0.1\n",
      "4    0.1\n",
      "5    0.1\n",
      "0    0.1\n",
      "Name: proportion, dtype: float64\n"
     ]
    },
    {
     "name": "stderr",
     "output_type": "stream",
     "text": [
      "\n"
     ]
    }
   ],
   "source": [
    "# Split into training, validation, and test sets with progress bar\n",
    "print(\"Splitting dataset...\")\n",
    "with tqdm(total=2, desc=\"Splitting Data\") as pbar:\n",
    "    X_train, X_test, y_train, y_test = train_test_split(X, y, test_size=0.2, random_state=SEED, shuffle=True, stratify=y)\n",
    "    pbar.update(1)\n",
    "    X_train, X_val, y_train, y_val = train_test_split(X_train, y_train, test_size=0.2, random_state=SEED, shuffle=True, stratify=y_train)\n",
    "    pbar.update(1)\n",
    "\n",
    "# Check dataset distribution\n",
    "print(\"Training Set Shape:\", X_train.shape, y_train.shape)\n",
    "print(\"Validation Set Shape:\", X_val.shape, y_val.shape)\n",
    "print(\"Test Set Shape:\", X_test.shape, y_test.shape)\n",
    "print(\"Class Distribution in Training Set:\")\n",
    "print(pd.Series(y_train).value_counts(normalize=True))\n"
   ]
  },
  {
   "cell_type": "markdown",
   "id": "17e8d6f4",
   "metadata": {},
   "source": [
    "### Define Models to Train"
   ]
  },
  {
   "cell_type": "code",
   "execution_count": 5,
   "id": "67e6ba08",
   "metadata": {},
   "outputs": [],
   "source": [
    "# Define models to train\n",
    "models = {\n",
    "    \"SVM\": SVC(kernel='rbf', random_state=SEED),\n",
    "    \"kNN\": KNeighborsClassifier(n_neighbors=5),\n",
    "    \"Logistic Regression\": LogisticRegression(max_iter=1000, random_state=SEED)#,\n",
    "#     \"Random Forest\": RandomForestClassifier(n_estimators=100, random_state=SEED)\n",
    "}"
   ]
  },
  {
   "cell_type": "markdown",
   "id": "93341775",
   "metadata": {},
   "source": [
    "# Train Models and Evaluate Performance"
   ]
  },
  {
   "cell_type": "code",
   "execution_count": 6,
   "id": "92b68ea0",
   "metadata": {},
   "outputs": [
    {
     "data": {
      "text/plain": [
       "dict_items([('SVM', SVC(random_state=385433)), ('kNN', KNeighborsClassifier()), ('Logistic Regression', LogisticRegression(max_iter=1000, random_state=385433))])"
      ]
     },
     "execution_count": 6,
     "metadata": {},
     "output_type": "execute_result"
    }
   ],
   "source": [
    "models.items()"
   ]
  },
  {
   "cell_type": "code",
   "execution_count": 7,
   "id": "05f15e6c",
   "metadata": {
    "scrolled": false
   },
   "outputs": [
    {
     "name": "stdout",
     "output_type": "stream",
     "text": [
      "2025-03-21 17:22:14\n",
      "Checking model training times...\n",
      "SVM took 0.08 seconds on a small subset.\n",
      "kNN took 0.00 seconds on a small subset.\n",
      "Logistic Regression took 1.01 seconds on a small subset.\n",
      "Training Models...\n"
     ]
    },
    {
     "name": "stderr",
     "output_type": "stream",
     "text": [
      "\r",
      "Training Progress:   0%|                                                                         | 0/3 [00:00<?, ?it/s]"
     ]
    },
    {
     "name": "stdout",
     "output_type": "stream",
     "text": [
      "\n",
      "Training SVM...\n"
     ]
    },
    {
     "name": "stderr",
     "output_type": "stream",
     "text": [
      "\n",
      "Fitting SVM:   0%|                                                                               | 0/1 [00:00<?, ?it/s]\u001b[A\n",
      "Fitting SVM: 100%|██████████████████████████████████████████████████████████████████████| 1/1 [03:38<00:00, 218.89s/it]\u001b[A\n",
      "                                                                                                                       \u001b[A"
     ]
    },
    {
     "name": "stdout",
     "output_type": "stream",
     "text": [
      "SVM training took 218.90 seconds.\n"
     ]
    },
    {
     "name": "stderr",
     "output_type": "stream",
     "text": [
      "\n",
      "Cross-validation SVM:   0%|                                                                      | 0/3 [00:00<?, ?it/s]\u001b[A\n",
      "Training Progress:  33%|█████████████████████▎                                          | 1/3 [16:28<32:57, 988.70s/it]\u001b[A"
     ]
    },
    {
     "name": "stdout",
     "output_type": "stream",
     "text": [
      "0.8825498861657962\n",
      "0.8810018080760731\n",
      "0.8771177928078752\n",
      "SVM Classification Report:\n",
      "               precision    recall  f1-score   support\n",
      "\n",
      "           0       0.96      0.95      0.96      1120\n",
      "           1       0.96      0.98      0.97      1120\n",
      "           2       0.81      0.83      0.82      1120\n",
      "           3       0.88      0.91      0.90      1120\n",
      "           4       0.81      0.82      0.82      1120\n",
      "           5       0.97      0.95      0.96      1120\n",
      "           6       0.74      0.65      0.69      1120\n",
      "           7       0.93      0.95      0.94      1120\n",
      "           8       1.00      0.96      0.98      1120\n",
      "           9       0.82      0.88      0.85      1120\n",
      "\n",
      "    accuracy                           0.89     11200\n",
      "   macro avg       0.89      0.89      0.89     11200\n",
      "weighted avg       0.89      0.89      0.89     11200\n",
      "\n",
      "\n",
      "Training kNN...\n"
     ]
    },
    {
     "name": "stderr",
     "output_type": "stream",
     "text": [
      "\n",
      "Fitting kNN:   0%|                                                                               | 0/1 [00:00<?, ?it/s]\u001b[A\n",
      "                                                                                                                       \u001b[A"
     ]
    },
    {
     "name": "stdout",
     "output_type": "stream",
     "text": [
      "kNN training took 0.01 seconds.\n"
     ]
    },
    {
     "name": "stderr",
     "output_type": "stream",
     "text": [
      "\n",
      "Cross-validation kNN:   0%|                                                                      | 0/3 [00:00<?, ?it/s]\u001b[A\n",
      "Training Progress:  67%|██████████████████████████████████████████▋                     | 2/3 [17:23<07:19, 439.33s/it]\u001b[A"
     ]
    },
    {
     "name": "stdout",
     "output_type": "stream",
     "text": [
      "0.8492701218695594\n",
      "0.8428982789794415\n",
      "0.8424295185160383\n",
      "kNN Classification Report:\n",
      "               precision    recall  f1-score   support\n",
      "\n",
      "           0       0.88      0.97      0.92      1120\n",
      "           1       0.97      0.96      0.97      1120\n",
      "           2       0.74      0.78      0.76      1120\n",
      "           3       0.91      0.86      0.88      1120\n",
      "           4       0.74      0.79      0.76      1120\n",
      "           5       1.00      0.81      0.89      1120\n",
      "           6       0.67      0.58      0.62      1120\n",
      "           7       0.88      0.95      0.91      1120\n",
      "           8       0.99      0.97      0.98      1120\n",
      "           9       0.79      0.86      0.83      1120\n",
      "\n",
      "    accuracy                           0.85     11200\n",
      "   macro avg       0.86      0.85      0.85     11200\n",
      "weighted avg       0.86      0.85      0.85     11200\n",
      "\n",
      "\n",
      "Training Logistic Regression...\n"
     ]
    },
    {
     "name": "stderr",
     "output_type": "stream",
     "text": [
      "\n",
      "Fitting Logistic Regression:   0%|                                                               | 0/1 [00:00<?, ?it/s]\u001b[AC:\\Users\\caola\\anaconda3\\Lib\\site-packages\\sklearn\\linear_model\\_logistic.py:460: ConvergenceWarning: lbfgs failed to converge (status=1):\n",
      "STOP: TOTAL NO. of ITERATIONS REACHED LIMIT.\n",
      "\n",
      "Increase the number of iterations (max_iter) or scale the data as shown in:\n",
      "    https://scikit-learn.org/stable/modules/preprocessing.html\n",
      "Please also refer to the documentation for alternative solver options:\n",
      "    https://scikit-learn.org/stable/modules/linear_model.html#logistic-regression\n",
      "  n_iter_i = _check_optimize_result(\n",
      "\n",
      "Fitting Logistic Regression: 100%|███████████████████████████████████████████████████████| 1/1 [01:22<00:00, 82.93s/it]\u001b[A\n",
      "                                                                                                                       \u001b[A"
     ]
    },
    {
     "name": "stdout",
     "output_type": "stream",
     "text": [
      "Logistic Regression training took 82.94 seconds.\n"
     ]
    },
    {
     "name": "stderr",
     "output_type": "stream",
     "text": [
      "C:\\Users\\caola\\anaconda3\\Lib\\site-packages\\sklearn\\linear_model\\_logistic.py:460: ConvergenceWarning: lbfgs failed to converge (status=1):\n",
      "STOP: TOTAL NO. of ITERATIONS REACHED LIMIT.\n",
      "\n",
      "Increase the number of iterations (max_iter) or scale the data as shown in:\n",
      "    https://scikit-learn.org/stable/modules/preprocessing.html\n",
      "Please also refer to the documentation for alternative solver options:\n",
      "    https://scikit-learn.org/stable/modules/linear_model.html#logistic-regression\n",
      "  n_iter_i = _check_optimize_result(\n",
      "C:\\Users\\caola\\anaconda3\\Lib\\site-packages\\sklearn\\linear_model\\_logistic.py:460: ConvergenceWarning: lbfgs failed to converge (status=1):\n",
      "STOP: TOTAL NO. of ITERATIONS REACHED LIMIT.\n",
      "\n",
      "Increase the number of iterations (max_iter) or scale the data as shown in:\n",
      "    https://scikit-learn.org/stable/modules/preprocessing.html\n",
      "Please also refer to the documentation for alternative solver options:\n",
      "    https://scikit-learn.org/stable/modules/linear_model.html#logistic-regression\n",
      "  n_iter_i = _check_optimize_result(\n",
      "C:\\Users\\caola\\anaconda3\\Lib\\site-packages\\sklearn\\linear_model\\_logistic.py:460: ConvergenceWarning: lbfgs failed to converge (status=1):\n",
      "STOP: TOTAL NO. of ITERATIONS REACHED LIMIT.\n",
      "\n",
      "Increase the number of iterations (max_iter) or scale the data as shown in:\n",
      "    https://scikit-learn.org/stable/modules/preprocessing.html\n",
      "Please also refer to the documentation for alternative solver options:\n",
      "    https://scikit-learn.org/stable/modules/linear_model.html#logistic-regression\n",
      "  n_iter_i = _check_optimize_result(\n",
      "\n",
      "Cross-validation Logistic Regression:   0%|                                                      | 0/3 [00:00<?, ?it/s]\u001b[A\n",
      "Training Progress: 100%|████████████████████████████████████████████████████████████████| 3/3 [21:34<00:00, 431.45s/it]\u001b[A"
     ]
    },
    {
     "name": "stdout",
     "output_type": "stream",
     "text": [
      "0.8317932235168073\n",
      "0.8276970468090805\n",
      "0.8213352976628943\n",
      "Logistic Regression Classification Report:\n",
      "               precision    recall  f1-score   support\n",
      "\n",
      "           0       0.90      0.93      0.92      1120\n",
      "           1       0.92      0.93      0.92      1120\n",
      "           2       0.73      0.76      0.75      1120\n",
      "           3       0.86      0.85      0.85      1120\n",
      "           4       0.74      0.76      0.75      1120\n",
      "           5       0.93      0.90      0.92      1120\n",
      "           6       0.65      0.57      0.61      1120\n",
      "           7       0.91      0.91      0.91      1120\n",
      "           8       0.94      0.97      0.95      1120\n",
      "           9       0.79      0.82      0.80      1120\n",
      "\n",
      "    accuracy                           0.84     11200\n",
      "   macro avg       0.84      0.84      0.84     11200\n",
      "weighted avg       0.84      0.84      0.84     11200\n",
      "\n",
      "\n",
      "Model training complete!\n"
     ]
    },
    {
     "name": "stderr",
     "output_type": "stream",
     "text": [
      "\n"
     ]
    }
   ],
   "source": [
    "import datetime, time\n",
    "print(datetime.datetime.fromtimestamp(time.time()).strftime('%Y-%m-%d %H:%M:%S'))\n",
    "\n",
    "print(\"Checking model training times...\")\n",
    "for name, model in models.items():\n",
    "    start_time = time.time()\n",
    "    model.fit(X_train[:500], y_train[:500])  # Train on small subset\n",
    "    end_time = time.time()\n",
    "    print(f\"{name} took {end_time - start_time:.2f} seconds on a small subset.\")\n",
    "# Train models and evaluate performance\n",
    "results = {}\n",
    "cross_val_results = {}\n",
    "\n",
    "print(\"Training Models...\")\n",
    "\n",
    "with tqdm(total=len(models), desc=\"Training Progress\", leave=True) as pbar:\n",
    "    for name, model in models.items():\n",
    "        print(f\"\\nTraining {name}...\")\n",
    "\n",
    "        start_time = time.time()  # Track time\n",
    "\n",
    "        # Train the model with a progress indicator\n",
    "        for i in tqdm(range(1), desc=f\"Fitting {name}\", leave=False):\n",
    "            model.fit(X_train, y_train)\n",
    "\n",
    "        end_time = time.time()\n",
    "        print(f\"{name} training took {end_time - start_time:.2f} seconds.\")\n",
    "\n",
    "        # Make predictions\n",
    "        y_pred = model.predict(X_val)\n",
    "\n",
    "        # Cross-validation with progress bar\n",
    "        cross_val_scores = []\n",
    "        for score in tqdm(cross_val_score(model, X_train, y_train, cv=3), desc=f\"Cross-validation {name}\", leave=False):\n",
    "            print(score)\n",
    "            cross_val_scores.append(score)\n",
    "\n",
    "        cross_val_score_avg = np.mean(cross_val_scores)\n",
    "\n",
    "        results[name] = accuracy_score(y_val, y_pred)\n",
    "        cross_val_results[name] = cross_val_score_avg\n",
    "\n",
    "        print(f\"{name} Classification Report:\\n\", classification_report(y_val, y_pred))\n",
    "        pbar.update(1)  # Update the outer progress bar\n",
    "\n",
    "print(\"\\nModel training complete!\")\n",
    "print(datetime.datetime.fromtimestamp(time.time()).strftime('%Y-%m-%d %H:%M:%S'))"
   ]
  },
  {
   "cell_type": "markdown",
   "id": "26bb6bfe",
   "metadata": {},
   "source": [
    "### Compare Model Performance (Accuracy and Cross-Validation)"
   ]
  },
  {
   "cell_type": "code",
   "execution_count": 10,
   "id": "f852c40e",
   "metadata": {},
   "outputs": [
    {
     "name": "stdout",
     "output_type": "stream",
     "text": [
      "\n",
      "Model Performance:\n",
      "                     Accuracy\n",
      "SVM                  0.888393\n",
      "kNN                  0.853482\n",
      "Logistic Regression  0.838750\n",
      "\n",
      "Cross-Validation Performance:\n",
      "                     Cross-Val Accuracy\n",
      "SVM                            0.880223\n",
      "kNN                            0.844866\n",
      "Logistic Regression            0.826942\n"
     ]
    },
    {
     "data": {
      "image/png": "[encoded data removed]",
      "text/plain": [
       "<Figure size 800x500 with 1 Axes>"
      ]
     },
     "metadata": {},
     "output_type": "display_data"
    },
    {
     "data": {
      "image/png": "[encoded data removed]",
      "text/plain": [
       "<Figure size 800x500 with 1 Axes>"
      ]
     },
     "metadata": {},
     "output_type": "display_data"
    }
   ],
   "source": [
    "# Compare Results\n",
    "results_df = pd.DataFrame.from_dict(results, orient='index', columns=['Accuracy'])\n",
    "cross_val_df = pd.DataFrame.from_dict(cross_val_results, orient='index', columns=['Cross-Val Accuracy'])\n",
    "print(\"\\nModel Performance:\")\n",
    "print(results_df)\n",
    "print(\"\\nCross-Validation Performance:\")\n",
    "print(cross_val_df)\n",
    "\n",
    "# Plot model accuracy comparison\n",
    "plt.figure(figsize=(8, 5))\n",
    "sns.barplot(x=results_df.index, y=results_df[\"Accuracy\"], palette=\"viridis\")\n",
    "plt.title(\"Model Accuracy Comparison\")\n",
    "plt.ylabel(\"Accuracy\")\n",
    "plt.show()\n",
    "\n",
    "# Plot cross-validation accuracy comparison\n",
    "plt.figure(figsize=(8, 5))\n",
    "sns.barplot(x=cross_val_df.index, y=cross_val_df[\"Cross-Val Accuracy\"], palette=\"coolwarm\")\n",
    "plt.title(\"Cross-Validation Accuracy Comparison\")\n",
    "plt.ylabel(\"Cross-Val Accuracy\")\n",
    "plt.show()\n"
   ]
  },
  {
   "cell_type": "markdown",
   "id": "97dab8bf",
   "metadata": {},
   "source": [
    "# Evaluate the Best Model on Test Set"
   ]
  },
  {
   "cell_type": "code",
   "execution_count": 11,
   "id": "8db25041",
   "metadata": {},
   "outputs": [
    {
     "name": "stdout",
     "output_type": "stream",
     "text": [
      "\n",
      "Best Model: SVM\n",
      "Test Set Classification Report:\n",
      "              precision    recall  f1-score   support\n",
      "\n",
      "           0       0.96      0.96      0.96      1400\n",
      "           1       0.96      0.97      0.97      1400\n",
      "           2       0.81      0.84      0.82      1400\n",
      "           3       0.88      0.92      0.89      1400\n",
      "           4       0.81      0.82      0.82      1400\n",
      "           5       0.96      0.96      0.96      1400\n",
      "           6       0.74      0.67      0.70      1400\n",
      "           7       0.94      0.95      0.94      1400\n",
      "           8       1.00      0.97      0.98      1400\n",
      "           9       0.83      0.85      0.84      1400\n",
      "\n",
      "    accuracy                           0.89     14000\n",
      "   macro avg       0.89      0.89      0.89     14000\n",
      "weighted avg       0.89      0.89      0.89     14000\n",
      "\n"
     ]
    }
   ],
   "source": [
    "# Evaluate Best Model on Test Set\n",
    "best_model_name = results_df[\"Accuracy\"].idxmax()\n",
    "best_model = models[best_model_name]\n",
    "y_test_pred = best_model.predict(X_test)\n",
    "\n",
    "print(f\"\\nBest Model: {best_model_name}\")\n",
    "print(\"Test Set Classification Report:\")\n",
    "print(classification_report(y_test, y_test_pred))\n"
   ]
  }
 ],
 "metadata": {
  "kernelspec": {
   "display_name": "Python 3 (ipykernel)",
   "language": "python",
   "name": "python3"
  },
  "language_info": {
   "codemirror_mode": {
    "name": "ipython",
    "version": 3
   },
   "file_extension": ".py",
   "mimetype": "text/x-python",
   "name": "python",
   "nbconvert_exporter": "python",
   "pygments_lexer": "ipython3",
   "version": "3.11.5"
  }
 },
 "nbformat": 4,
 "nbformat_minor": 5
}
